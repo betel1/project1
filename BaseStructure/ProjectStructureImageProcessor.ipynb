{
 "cells": [
  {
   "cell_type": "code",
   "execution_count": null,
   "metadata": {
    "collapsed": false
   },
   "outputs": [],
   "source": [
    "#Load in tandem with ProjectStructure\n",
    "\n",
    "import tornado.web\n",
    "import json\n",
    "import io\n",
    "import matplotlib.pyplot as plt\n",
    "import pylab\n",
    "import os\n",
    "import time\n",
    "from PIL import Image\n",
    "\n",
    "\n",
    "while True:\n",
    "    try:\n",
    "        VOTES = json.load(open('votes.json'))\n",
    "        Pltvotes = VOTES.values()\n",
    "    except (IOError, ValueError):\n",
    "        Pltvotes = [1,1,1,1,1]\n",
    "        VOTES = [1,1,1,1,1]\n",
    "    alpha = 0\n",
    "    labels = 'Openness', 'Extraversion', 'Neuroticism', 'Agreeableness','Conscientiousness'\n",
    "    sizes = Pltvotes\n",
    "    colors = ['gold', 'yellowgreen', 'lightcoral', 'lightskyblue','violet']\n",
    "    explode = (0, 0, 0, 0, 0)\n",
    " \n",
    "\n",
    "    plt.pie(sizes, explode=explode, labels=labels, colors=colors,\n",
    "        autopct='%1.1f%%', shadow=True, startangle=140)\n",
    " \n",
    "    plt.axis('equal')\n",
    "    pylab.savefig('Pltvotes.png')\n",
    "    time.sleep(2)\n",
    "    os.remove('Pltvotes.png')\n",
    "    plt.clf()"
   ]
  },
  {
   "cell_type": "code",
   "execution_count": null,
   "metadata": {
    "collapsed": true
   },
   "outputs": [],
   "source": []
  }
 ],
 "metadata": {
  "anaconda-cloud": {},
  "kernelspec": {
   "display_name": "Python [Root]",
   "language": "python",
   "name": "Python [Root]"
  },
  "language_info": {
   "codemirror_mode": {
    "name": "ipython",
    "version": 2
   },
   "file_extension": ".py",
   "mimetype": "text/x-python",
   "name": "python",
   "nbconvert_exporter": "python",
   "pygments_lexer": "ipython2",
   "version": "2.7.12"
  }
 },
 "nbformat": 4,
 "nbformat_minor": 0
}
